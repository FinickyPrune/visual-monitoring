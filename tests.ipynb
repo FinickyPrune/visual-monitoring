{
 "cells": [
  {
   "cell_type": "code",
   "execution_count": 12,
   "metadata": {},
   "outputs": [],
   "source": [
    "from PIL import Image\n",
    "from typing import *\n",
    "import numpy as np\n",
    "from numpy.linalg import norm\n",
    "import cv2"
   ]
  },
  {
   "cell_type": "code",
   "execution_count": 13,
   "metadata": {},
   "outputs": [],
   "source": [
    "class RedSquareGenerator:\n",
    "    def __init__(\n",
    "        self,\n",
    "        image_size: Tuple[int, int] = (100, 100),\n",
    "        square_count: int = 17,\n",
    "        square_size: Tuple[int, int] = (11, 11),\n",
    "    ):\n",
    "        self.__image_size: int = image_size\n",
    "        self.__target_count: int = square_count\n",
    "        self.__sq_h, self.__sq_w = square_size\n",
    "\n",
    "    def generate(self) -> Generator[None, None, Image.Image]:\n",
    "        RED = np.array(  (255, 0, 0), dtype=np.uint8)\n",
    "        BLUE = np.array(  (0, 0, 255), dtype=np.uint8)\n",
    "        BLACK = np.array((  0, 0, 0), dtype=np.uint8)\n",
    "        START_POSITION = (0, 0)\n",
    "\n",
    "        y_s, x_s = START_POSITION\n",
    "\n",
    "        for i in range(self.__target_count):\n",
    "            im = Image.new(\"RGB\", self.__image_size, \"white\")\n",
    "            pixels = im.load()\n",
    "\n",
    "            for y in range(self.__sq_h):\n",
    "                for x in range(self.__sq_w - 1):\n",
    "                    pixels[y_s + y, x_s + x + i] = tuple(RED + BLUE)\n",
    "                pixels[y_s + y, x_s + x + 1 + i] = tuple(np.array(BLACK, dtype=np.uint8))\n",
    "\n",
    "            yield im"
   ]
  },
  {
   "cell_type": "code",
   "execution_count": 14,
   "metadata": {},
   "outputs": [
    {
     "name": "stdout",
     "output_type": "stream",
     "text": [
      "time: 0.000993967056274414\n",
      "coords: [0.045 0.05 ]\n",
      "facing: [1. 0.]\n"
     ]
    }
   ],
   "source": [
    "from time import time\n",
    "\n",
    "rsg = RedSquareGenerator(square_count=10)\n",
    "\n",
    "# .save(\"./5.png\")\n",
    "image = next(rsg.generate())\n",
    "img = np.array(image)\n",
    "\n",
    "start = time()\n",
    "\n",
    "purple_thresh = cv2.inRange(img, (250, 0, 250), (255, 0, 255))\n",
    "black_thresh = cv2.inRange(img, (0, 0, 0), (5, 5, 5))\n",
    "\n",
    "purple_square_coordinates = np.where(purple_thresh == 255)\n",
    "black_square_coordinates = np.where(black_thresh == 255)\n",
    "\n",
    "robot_coords = np.mean(purple_square_coordinates, axis=1)\n",
    "robot_facing = np.mean(black_square_coordinates, axis=1) - robot_coords\n",
    "robot_facing /= norm(robot_facing)\n",
    "\n",
    "end = time()\n",
    "\n",
    "print(f\"time: {end-start}\")\n",
    "print(f\"coords: {robot_coords/img.shape[:2]}\")\n",
    "print(f\"facing: {robot_facing}\")"
   ]
  },
  {
   "cell_type": "code",
   "execution_count": 15,
   "metadata": {},
   "outputs": [
    {
     "data": {
      "text/plain": [
       "(array([1. , 0.8]), array([3. , 1.2]))"
      ]
     },
     "execution_count": 15,
     "metadata": {},
     "output_type": "execute_result"
    }
   ],
   "source": [
    "from itertools import combinations\n",
    "\n",
    "r = [\n",
    "    np.array([0, 0]),\n",
    "    np.array([1, 2]),\n",
    "    np.array([2, 1]),\n",
    "    np.array([3, 0]),\n",
    "    np.array([4, 2]),\n",
    "    ]\n",
    "\n",
    "c = np.array(list(combinations(r, 2)))\n",
    "guide_vector_points = np.mean(c[:, 0, :], axis=0), np.mean(c[:, 1, :], axis=0)\n",
    "guide_vector_points"
   ]
  },
  {
   "cell_type": "code",
   "execution_count": 16,
   "metadata": {},
   "outputs": [
    {
     "data": {
      "text/latex": [
       "$\\displaystyle \\operatorname{Point2D}\\left(\\frac{107}{26}, \\frac{37}{26}\\right)$"
      ],
      "text/plain": [
       "Point2D(107/26, 37/26)"
      ]
     },
     "execution_count": 16,
     "metadata": {},
     "output_type": "execute_result"
    }
   ],
   "source": [
    "from sympy.geometry import Line2D, Point2D\n",
    "\n",
    "line = Line2D(Point2D(guide_vector_points[0]), Point2D(guide_vector_points[1]))\n",
    "\n",
    "r_last = r[-1]\n",
    "r_projected = line.projection(r_last)\n",
    "r_projected"
   ]
  },
  {
   "cell_type": "code",
   "execution_count": 36,
   "metadata": {},
   "outputs": [
    {
     "data": {
      "text/latex": [
       "$\\displaystyle \\operatorname{Point2D}\\left(5.94052538532106, 1.42307692307692\\right)$"
      ],
      "text/plain": [
       "Point2D(5.94052538532106, 1.42307692307692)"
      ]
     },
     "execution_count": 36,
     "metadata": {},
     "output_type": "execute_result"
    }
   ],
   "source": [
    "facing = np.array([robot_facing,] * 5)\n",
    "\n",
    "t = [0, 0.3, 0.5, 0.7, 1]\n",
    "\n",
    "mean_facing = np.mean(facing, axis=0)\n",
    "\n",
    "dr = norm(np.diff(r, axis=0), axis=1) # [ |1 2| |1 -1| |1 -1| |1 2| ]\n",
    "dt = np.diff(t, axis=0) # [ 0.3 0.2 0.2 0.3 ]\n",
    "\n",
    "v_mean = np.sum(dr) / np.sum(dt) # ~7.30\n",
    "\n",
    "r_predicted = r_projected + v_mean * np.mean(dt, axis=0) * mean_facing\n",
    "\n",
    "r_predicted"
   ]
  },
  {
   "cell_type": "code",
   "execution_count": 3,
   "metadata": {},
   "outputs": [
    {
     "data": {
      "text/plain": [
       "[array([[[ 85, 112, 109],\n",
       "         [ 85, 112, 109],\n",
       "         [ 90, 118, 113],\n",
       "         ...,\n",
       "         [ 98, 114, 113],\n",
       "         [ 91, 106, 108],\n",
       "         [ 91, 106, 108]],\n",
       " \n",
       "        [[ 85, 112, 109],\n",
       "         [ 85, 112, 109],\n",
       "         [ 90, 118, 113],\n",
       "         ...,\n",
       "         [ 98, 114, 113],\n",
       "         [ 91, 106, 108],\n",
       "         [ 91, 106, 108]],\n",
       " \n",
       "        [[ 81, 108, 105],\n",
       "         [ 81, 108, 105],\n",
       "         [ 81, 108, 103],\n",
       "         ...,\n",
       "         [105, 121, 120],\n",
       "         [100, 115, 117],\n",
       "         [100, 115, 117]],\n",
       " \n",
       "        ...,\n",
       " \n",
       "        [[120, 114,  85],\n",
       "         [120, 114,  85],\n",
       "         [117, 111,  82],\n",
       "         ...,\n",
       "         [104,  97,  78],\n",
       "         [110, 102,  85],\n",
       "         [110, 102,  85]],\n",
       " \n",
       "        [[124, 118,  89],\n",
       "         [124, 118,  89],\n",
       "         [125, 119,  90],\n",
       "         ...,\n",
       "         [113, 106,  88],\n",
       "         [122, 113,  99],\n",
       "         [122, 113,  99]],\n",
       " \n",
       "        [[124, 118,  89],\n",
       "         [124, 118,  89],\n",
       "         [125, 119,  90],\n",
       "         ...,\n",
       "         [113, 106,  88],\n",
       "         [122, 113,  99],\n",
       "         [122, 113,  99]]], dtype=uint8),\n",
       " array([[[ 26,  36,  30],\n",
       "         [ 26,  36,  30],\n",
       "         [ 26,  38,  32],\n",
       "         ...,\n",
       "         [ 83, 102,  93],\n",
       "         [ 81, 100,  91],\n",
       "         [ 81, 100,  91]],\n",
       " \n",
       "        [[ 26,  36,  30],\n",
       "         [ 26,  36,  30],\n",
       "         [ 26,  38,  32],\n",
       "         ...,\n",
       "         [ 83, 102,  93],\n",
       "         [ 81, 100,  91],\n",
       "         [ 81, 100,  91]],\n",
       " \n",
       "        [[ 27,  40,  33],\n",
       "         [ 27,  40,  33],\n",
       "         [ 29,  41,  35],\n",
       "         ...,\n",
       "         [ 80,  99,  89],\n",
       "         [ 78,  97,  88],\n",
       "         [ 78,  97,  88]],\n",
       " \n",
       "        ...,\n",
       " \n",
       "        [[102,  92,  68],\n",
       "         [102,  92,  68],\n",
       "         [108,  98,  74],\n",
       "         ...,\n",
       "         [ 58,  50,  33],\n",
       "         [ 60,  52,  35],\n",
       "         [ 60,  52,  35]],\n",
       " \n",
       "        [[ 97,  86,  64],\n",
       "         [ 97,  86,  64],\n",
       "         [104,  93,  71],\n",
       "         ...,\n",
       "         [ 69,  61,  44],\n",
       "         [ 62,  54,  37],\n",
       "         [ 62,  54,  37]],\n",
       " \n",
       "        [[ 97,  86,  64],\n",
       "         [ 97,  86,  64],\n",
       "         [104,  93,  71],\n",
       "         ...,\n",
       "         [ 69,  61,  44],\n",
       "         [ 62,  54,  37],\n",
       "         [ 62,  54,  37]]], dtype=uint8),\n",
       " array([[[ 79,  94,  97],\n",
       "         [ 79,  94,  97],\n",
       "         [ 91, 106, 109],\n",
       "         ...,\n",
       "         [ 81, 104,  96],\n",
       "         [ 79, 102,  94],\n",
       "         [ 79, 102,  94]],\n",
       " \n",
       "        [[ 79,  94,  97],\n",
       "         [ 79,  94,  97],\n",
       "         [ 91, 106, 109],\n",
       "         ...,\n",
       "         [ 81, 104,  96],\n",
       "         [ 79, 102,  94],\n",
       "         [ 79, 102,  94]],\n",
       " \n",
       "        [[ 82,  97, 100],\n",
       "         [ 82,  97, 100],\n",
       "         [ 91, 106, 109],\n",
       "         ...,\n",
       "         [ 79, 102,  94],\n",
       "         [ 76,  99,  91],\n",
       "         [ 76,  99,  91]],\n",
       " \n",
       "        ...,\n",
       " \n",
       "        [[102,  96,  73],\n",
       "         [102,  96,  73],\n",
       "         [102,  96,  73],\n",
       "         ...,\n",
       "         [ 69,  64,  49],\n",
       "         [ 62,  57,  42],\n",
       "         [ 62,  57,  42]],\n",
       " \n",
       "        [[108, 102,  79],\n",
       "         [108, 102,  79],\n",
       "         [101,  95,  72],\n",
       "         ...,\n",
       "         [ 64,  60,  42],\n",
       "         [ 68,  64,  45],\n",
       "         [ 68,  64,  45]],\n",
       " \n",
       "        [[108, 102,  79],\n",
       "         [108, 102,  79],\n",
       "         [101,  95,  72],\n",
       "         ...,\n",
       "         [ 64,  60,  42],\n",
       "         [ 68,  64,  45],\n",
       "         [ 68,  64,  45]]], dtype=uint8),\n",
       " array([[[ 51,  56,  57],\n",
       "         [ 51,  56,  57],\n",
       "         [ 42,  47,  48],\n",
       "         ...,\n",
       "         [ 74,  90,  79],\n",
       "         [ 75,  91,  80],\n",
       "         [ 75,  91,  80]],\n",
       " \n",
       "        [[ 51,  56,  57],\n",
       "         [ 51,  56,  57],\n",
       "         [ 42,  47,  48],\n",
       "         ...,\n",
       "         [ 74,  90,  79],\n",
       "         [ 75,  91,  80],\n",
       "         [ 75,  91,  80]],\n",
       " \n",
       "        [[ 54,  60,  60],\n",
       "         [ 54,  60,  60],\n",
       "         [ 52,  58,  58],\n",
       "         ...,\n",
       "         [ 74,  90,  79],\n",
       "         [ 75,  91,  80],\n",
       "         [ 75,  91,  80]],\n",
       " \n",
       "        ...,\n",
       " \n",
       "        [[109, 100,  73],\n",
       "         [109, 100,  73],\n",
       "         [107,  98,  71],\n",
       "         ...,\n",
       "         [ 66,  56,  38],\n",
       "         [ 61,  51,  33],\n",
       "         [ 61,  51,  33]],\n",
       " \n",
       "        [[112, 103,  76],\n",
       "         [112, 103,  76],\n",
       "         [112, 103,  76],\n",
       "         ...,\n",
       "         [ 71,  60,  42],\n",
       "         [ 64,  54,  36],\n",
       "         [ 64,  54,  36]],\n",
       " \n",
       "        [[112, 103,  76],\n",
       "         [112, 103,  76],\n",
       "         [112, 103,  76],\n",
       "         ...,\n",
       "         [ 71,  60,  42],\n",
       "         [ 64,  54,  36],\n",
       "         [ 64,  54,  36]]], dtype=uint8)]"
      ]
     },
     "execution_count": 3,
     "metadata": {},
     "output_type": "execute_result"
    }
   ],
   "source": [
    "data = [cv2.imread(f\"./{i}.png\", cv2.IMREAD_COLOR) for i in range(1, 5)]\n",
    "data"
   ]
  },
  {
   "cell_type": "code",
   "execution_count": 36,
   "metadata": {},
   "outputs": [
    {
     "data": {
      "text/plain": [
       "13"
      ]
     },
     "execution_count": 36,
     "metadata": {},
     "output_type": "execute_result"
    }
   ],
   "source": [
    "for i in range(1, 5):\n",
    "    cv2.imshow(f\"{i}\", data[i-1]) \n",
    "cv2.waitKey(0)"
   ]
  },
  {
   "cell_type": "code",
   "execution_count": 55,
   "metadata": {},
   "outputs": [
    {
     "name": "stdout",
     "output_type": "stream",
     "text": [
      "(638, 42)\n",
      "(638, 72)\n",
      "(645, 81)\n",
      "(617, 117)\n"
     ]
    },
    {
     "data": {
      "text/plain": [
       "13"
      ]
     },
     "execution_count": 55,
     "metadata": {},
     "output_type": "execute_result"
    }
   ],
   "source": [
    "purple_range1 = (220,50,170), (250,80,200)\n",
    "purple_range2 = (210,30,110), (230,50,140)\n",
    "\n",
    "for i in range(1, 5):\n",
    "    pr1 = cv2.inRange(data[i-1], *purple_range1)\n",
    "    pr2 = cv2.inRange(data[i-1], *purple_range2)\n",
    "    dilate = cv2.dilate(np.bitwise_or(pr1, pr2), kernel=np.ones((7,7)))\n",
    "    white_dots_coords = np.where(dilate != 0)\n",
    "\n",
    "    r = tuple(map(int, tuple(np.mean(white_dots_coords, axis=1))))[::-1]\n",
    "\n",
    "    print(r)\n",
    "\n",
    "    dilate = cv2.cvtColor(dilate, cv2.COLOR_GRAY2BGR)\n",
    "    dilate = cv2.circle(dilate, r, 5, (0, 0, 255), thickness=5)\n",
    "\n",
    "cv2.imshow(f\"{i}\", dilate)\n",
    "cv2.waitKey(0)"
   ]
  },
  {
   "cell_type": "code",
   "execution_count": 56,
   "metadata": {},
   "outputs": [
    {
     "data": {
      "text/plain": [
       "-1"
      ]
     },
     "execution_count": 56,
     "metadata": {},
     "output_type": "execute_result"
    }
   ],
   "source": [
    "for i in range(1, 5):\n",
    "    cv2.destroyWindow(f\"{i}\")\n",
    "cv2.destroyAllWindows()\n",
    "cv2.waitKey(1)"
   ]
  }
 ],
 "metadata": {
  "kernelspec": {
   "display_name": "Python 3",
   "language": "python",
   "name": "python3"
  },
  "language_info": {
   "codemirror_mode": {
    "name": "ipython",
    "version": 3
   },
   "file_extension": ".py",
   "mimetype": "text/x-python",
   "name": "python",
   "nbconvert_exporter": "python",
   "pygments_lexer": "ipython3",
   "version": "3.10.11"
  },
  "orig_nbformat": 4
 },
 "nbformat": 4,
 "nbformat_minor": 2
}
